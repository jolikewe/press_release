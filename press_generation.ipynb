{
 "cells": [
  {
   "cell_type": "code",
   "execution_count": 1,
   "id": "4c3cbfad-056a-4cb2-9959-f3b2fc86cbf6",
   "metadata": {},
   "outputs": [],
   "source": [
    "import os\n",
    "import json\n",
    "\n",
    "import rag_functions as rag\n",
    "import llm_functions as llm"
   ]
  },
  {
   "cell_type": "markdown",
   "id": "b1646390-46b4-4d5e-81bc-cfe443bf448e",
   "metadata": {},
   "source": [
    "#### Choose documents"
   ]
  },
  {
   "cell_type": "code",
   "execution_count": 2,
   "id": "ad1a282c-96a6-46e0-b9c1-4778c5fb7180",
   "metadata": {},
   "outputs": [],
   "source": [
    "data_path = \"/home/xinmeng/cpib/data\"\n",
    "files = {0: os.path.join(data_path, \"2022_SGHC_5.pdf\"), \n",
    "         1: os.path.join(data_path, \"2017_SGHC_225.pdf\")\n",
    "        }"
   ]
  },
  {
   "cell_type": "markdown",
   "id": "cff7d06d-60d9-4828-88e5-465894b94e51",
   "metadata": {},
   "source": [
    "#### Generate document information"
   ]
  },
  {
   "cell_type": "code",
   "execution_count": 3,
   "id": "fa8ce4c7-44fc-4d16-a305-6e4332fe1940",
   "metadata": {},
   "outputs": [
    {
     "data": {
      "text/plain": [
       "dict_keys([0, 1])"
      ]
     },
     "execution_count": 3,
     "metadata": {},
     "output_type": "execute_result"
    }
   ],
   "source": [
    "rag.initiate()\n",
    "\n",
    "raw_elements = rag.get_raw_elements(files, generate_new=False)\n",
    "info = rag.get_info(files, raw_elements, generate_new=False)\n",
    "\n",
    "info.keys()"
   ]
  },
  {
   "cell_type": "markdown",
   "id": "2e077b06-6107-427f-a3b9-3a679d8d2b00",
   "metadata": {},
   "source": [
    "#### Convert information to embeddings"
   ]
  },
  {
   "cell_type": "code",
   "execution_count": 4,
   "id": "0059414b-f8cf-4008-adb0-c963169ca8a9",
   "metadata": {},
   "outputs": [
    {
     "name": "stdout",
     "output_type": "stream",
     "text": [
      "Stored collection retrieved: \"data_0\"\n",
      "Stored collection retrieved: \"data_1\"\n"
     ]
    }
   ],
   "source": [
    "embedding_model_path = \"/home/xinmeng/cpib/models/gte-large\"\n",
    "\n",
    "generateEmbeddings = rag.MyEmbeddingFunction(embedding_model_path=embedding_model_path)\n",
    "\n",
    "collections = rag.get_collections(generateEmbeddings, info, generate_new=False)\n",
    "\n",
    "# collections[0].peek()      # returns a list of the first 10 items in the collection\n",
    "# collections[0].count()     # returns the number of items in the collection"
   ]
  },
  {
   "cell_type": "code",
   "execution_count": 5,
   "id": "b875f5e0-c2e1-446f-9244-a999f8992ee0",
   "metadata": {},
   "outputs": [],
   "source": [
    "generateQueryEmbeddings = rag.MyEmbeddingFunction(embedding_model_path=embedding_model_path, query=True)"
   ]
  },
  {
   "cell_type": "markdown",
   "id": "dc0fe0ec-2ccd-4dec-9ac2-05dda4917225",
   "metadata": {},
   "source": [
    "#### Initiate LLM "
   ]
  },
  {
   "cell_type": "code",
   "execution_count": 6,
   "id": "55fa797b-3d69-461c-91d9-e79bea1e640c",
   "metadata": {},
   "outputs": [
    {
     "name": "stderr",
     "output_type": "stream",
     "text": [
      "Special tokens have been added in the vocabulary, make sure the associated word embeddings are fine-tuned or trained.\n",
      "CUDA extension not installed.\n",
      "CUDA extension not installed.\n"
     ]
    }
   ],
   "source": [
    "mistral_7b_orca_model_path = \"/home/xinmeng/cpib/models/Mistral-7B-OpenOrca-GPTQ\"\n",
    "\n",
    "llm.initiate_mistral(mistral_7b_orca_model_path)"
   ]
  },
  {
   "cell_type": "markdown",
   "id": "d04fb486-3d15-44e0-b1ba-966cdb78e97b",
   "metadata": {},
   "source": [
    "#### Test Q&A"
   ]
  },
  {
   "cell_type": "code",
   "execution_count": 7,
   "id": "5ef626ba-104c-4d28-a608-cbb23d80cb6f",
   "metadata": {},
   "outputs": [
    {
     "name": "stderr",
     "output_type": "stream",
     "text": [
      "/home/xinmeng/miniconda3/envs/rag/lib/python3.10/site-packages/transformers/generation/utils.py:1421: UserWarning: You have modified the pretrained model configuration to control generation. This is a deprecated strategy to control generation and will be removed soon, in a future version. Please use and modify the model generation configuration (see https://huggingface.co/docs/transformers/generation_strategies#default-text-generation-configuration )\n",
      "  warnings.warn(\n"
     ]
    },
    {
     "data": {
      "text/plain": [
       "'The appellant and Yong are the accused.'"
      ]
     },
     "execution_count": 7,
     "metadata": {},
     "output_type": "execute_result"
    }
   ],
   "source": [
    "query = \"who are the accused\"\n",
    "\n",
    "results = rag.get_results(generateQueryEmbeddings, collections[0], query, 5)\n",
    "relevant_results = rag.convert_results(results, info[0][\"contexts\"])\n",
    "ans = llm.generate_ans(query, relevant_results)\n",
    "llm.get_ans(ans)"
   ]
  },
  {
   "cell_type": "markdown",
   "id": "26bf69ad-1111-48fc-b96a-f839be6ec42e",
   "metadata": {},
   "source": [
    "#### Information received from Case Info"
   ]
  },
  {
   "cell_type": "code",
   "execution_count": 7,
   "id": "3abe9283-ae05-4369-bdfa-add7fb7760c2",
   "metadata": {},
   "outputs": [],
   "source": [
    "subjects = ['Derek Gordon Pigg, the appellant', 'Yong Hock Guan Dennis', 'Ong Eng Kee']\n",
    "\n",
    "details = {}\n",
    "\n",
    "other_details = {'Date of charge': None,\n",
    "                 'Period of crime': None,\n",
    "                 'Summary of crime': None}"
   ]
  },
  {
   "cell_type": "markdown",
   "id": "8c6d7b90-63ba-4ff2-aaec-dd43eff21048",
   "metadata": {},
   "source": [
    "#### Prompt examples"
   ]
  },
  {
   "cell_type": "code",
   "execution_count": 8,
   "id": "9b08b35b-67d4-41a4-bd9a-88345cfdff42",
   "metadata": {},
   "outputs": [],
   "source": [
    "with open('prompt_examples.json', 'r') as f:\n",
    "    prompt_examples = json.load(f)"
   ]
  },
  {
   "cell_type": "code",
   "execution_count": 9,
   "id": "c41b9716-1e7e-420f-8085-17229f359f4f",
   "metadata": {},
   "outputs": [
    {
     "data": {
      "text/plain": [
       "dict_keys(['example_case', 'example_case_short_1', 'example_case_short_2', 'example_case_short_3', 'example_david', 'example_emma', 'example_deets_david', 'example_deets_emma', 'example_crime_david', 'example_crime_emma', 'example_testimony_david', 'example_testimony_emma'])"
      ]
     },
     "execution_count": 9,
     "metadata": {},
     "output_type": "execute_result"
    }
   ],
   "source": [
    "prompt_examples.keys()"
   ]
  },
  {
   "cell_type": "code",
   "execution_count": 10,
   "id": "8f39bfdb-ec48-4420-9ddb-d5a3272855b2",
   "metadata": {},
   "outputs": [],
   "source": [
    "example_case = prompt_examples['example_case']\n",
    "example_david = prompt_examples['example_david']\n",
    "example_emma = prompt_examples['example_emma']\n",
    "example_deets_david = prompt_examples['example_deets_david']\n",
    "example_deets_emma = prompt_examples['example_deets_emma']\n",
    "example_crime_david = prompt_examples['example_crime_david']\n",
    "example_crime_emma = prompt_examples['example_crime_emma']\n",
    "example_testimony_david = prompt_examples['example_testimony_david']\n",
    "example_testimony_emma = prompt_examples['example_testimony_emma']"
   ]
  },
  {
   "cell_type": "code",
   "execution_count": 11,
   "id": "da679a82-fd33-49bf-8967-14c27ebe316f",
   "metadata": {},
   "outputs": [
    {
     "name": "stdout",
     "output_type": "stream",
     "text": [
      "  \n",
      "\n",
      "Footnote 1 of Public Prosecutor v Derek Gordon Pigg [2020] SGDC 278 (“GD”). 6 ROP at pp 8–15. ROP at pp 39, 541–542 and 1988 (NE dated 10 April 2018 at p 11 lines 4–11; NE dated 22 October 2018 at p 102 line 19 to p 103 line 10; Prosecution’s Closing Submissions dated 14 August 2019 (“PCS”) at para 28(a)). ROP at pp 40, 541 and 1988 (NE dated 10 April 2018 at p 12 lines 10–23; NE dated 22 October 2018 at p 102 lines 19–23; PCS at para 28(b)).  \n",
      "\n",
      "8 The District Judge accepted Yong’s evidence and convicted the appellant. His key findings are as follows (see Public Prosecutor v Derek Gordon Pigg [2020] SGDC 278 (“GD”) at [28]–[36], [37]–[55] and [61]–[62]):  \n",
      "\n",
      "Wong Hin Pkin Wendell and Andrew Chua Ruiming (Drew & Napier LLC) for the appellant and applicant; David Koh and Janice See (Attorney-General’s Chambers) for the respondent.  \n",
      "\n",
      "appellant’s appeal against his conviction for all eight charges under s 6(a) of the PCA.  \n",
      "\n",
      "45 Appellant’s Submissions at para 8. Appellant’s Submissions at paras 71–74.  \n",
      "\n",
      "Against this, the appellant points to Yong’s oral testimony where he  \n",
      "\n",
      "3 At the material time, the appellant was a manager of global strategic sourcing for the Asia Pacific region at Transocean Eastern Pte Ltd (“Transocean”),1 while Yong was the senior sales manager of Mid-Continent Tubular Pte Ltd (“MCT”).2 MCT was Transocean’s supplier.3 Transocean purchased tubular goods and services from MCT on eight occasions, and this formed the factual backdrop of the eight charges against the appellant.4  \n",
      "\n",
      "38 The main plank of the appellant’s case is that Yong’s credit ought to be impeached: there are far too many material contradictions in his evidence which Yong was unable to provide an explanation for.42 The appellant highlights four categories of inconsistencies in Yong’s evidence which allegedly go to the heart of the charges against the appellant:43 \n",
      "\n"
     ]
    }
   ],
   "source": [
    "query = f\"Details of {subjects[0]}. \\\n",
    "          nickname, job title, role, company, organisation? \\\n",
    "          How many charges? Form of gratification. Is subject guilty\"\n",
    "\n",
    "results = rag.get_results(generateQueryEmbeddings, collections[0], query, 8)\n",
    "for i in rag.convert_results(results, info[0][\"contexts\"]).split('\\n'):\n",
    "    print(i, '\\n')"
   ]
  },
  {
   "cell_type": "code",
   "execution_count": null,
   "id": "983c6686-b2b4-43dd-b765-04280b6d55c2",
   "metadata": {},
   "outputs": [],
   "source": [
    "for s in subjects:\n",
    "    deets = llm.generate_details(generateQueryEmbeddings, collections[0], info[0][\"contexts\"], s, \n",
    "                                 example_case, example_david, example_deets_david, \n",
    "                                 example_case, example_emma, example_deets_emma, stream=False)\n",
    "    details[s] = llm.get_details(deets, s)\n",
    "details"
   ]
  },
  {
   "cell_type": "code",
   "execution_count": null,
   "id": "c3df380e-67dd-4421-8932-eca0f5e2e3ea",
   "metadata": {},
   "outputs": [],
   "source": [
    "for s in subjects:\n",
    "    crime = llm.generate_crime(generateQueryEmbeddings, collections[0], info[0][\"contexts\"], s, \n",
    "                                 example_case, example_david, example_crime_david, \n",
    "                                 example_case, example_emma, example_crime_emma, stream=False)\n",
    "    details[s].update(llm.get_details(crime, s))\n",
    "details"
   ]
  },
  {
   "cell_type": "code",
   "execution_count": 13,
   "id": "ba46576b-8a67-4f61-aac0-9f0d9ca601c2",
   "metadata": {},
   "outputs": [
    {
     "data": {
      "text/plain": [
       "{'Derek Gordon Pigg': {'Nick': 'Derek',\n",
       "  'Occupation': 'Manager',\n",
       "  'Organisation': 'Transocean Eastern Pte Ltd',\n",
       "  'Company nick': 'Transocean',\n",
       "  'Number of charges': '8',\n",
       "  'Role': 'Receiver',\n",
       "  'Form of gratification': 'Money',\n",
       "  'Charge': 'NA',\n",
       "  'Admission to guilt': 'Yes',\n",
       "  'Testimony': 'NA.'},\n",
       " 'Yong Hock Guan Dennis': {'Nick': 'Yong',\n",
       "  'Occupation': 'Senior sales manager',\n",
       "  'Organisation': 'Mid-Continent Tubular Pte Ltd',\n",
       "  'Company nick': 'MCT',\n",
       "  'Number of charges': '15',\n",
       "  'Role': 'Giver',\n",
       "  'Form of gratification': 'Money',\n",
       "  'Charge': 's 6(a) and 6(b) of the Prevention of Corruption Act',\n",
       "  'Admission to guilt': 'Yes',\n",
       "  'Testimony': 'According to the testification by Yong Hock Guan Dennis, the amount of bribe that was paid or received was not fixed but generally set aside 1 to 2% of the total price.'},\n",
       " 'Ong Eng Kee': {'Nick': 'Ong',\n",
       "  'Occupation': 'Managing Director',\n",
       "  'Organisation': 'MCT',\n",
       "  'Company nick': 'MCT',\n",
       "  'Number of charges': '15',\n",
       "  'Role': 'Giver',\n",
       "  'Form of gratification': 'Money',\n",
       "  'Charge': 'Section 6(b) of the Prevention of Corruption Act',\n",
       "  'Admission to guilt': 'Yes',\n",
       "  'Testimony': 'the amount of bribe that was paid or received is not available.'}}"
      ]
     },
     "execution_count": 13,
     "metadata": {},
     "output_type": "execute_result"
    }
   ],
   "source": [
    "for s in subjects:\n",
    "    testimony = llm.generate_testimony(generateQueryEmbeddings, collections[0], info[0][\"contexts\"], s, \n",
    "                                       example_case, example_david, example_testimony_david, \n",
    "                                       example_case, example_emma, example_testimony_emma, stream=False)\n",
    "    details[s]['Testimony'] = llm.get_testimony(testimony, s)\n",
    "details"
   ]
  },
  {
   "cell_type": "code",
   "execution_count": 11,
   "id": "f50f4399-7626-4e36-9c01-c01e7bd3d0c7",
   "metadata": {},
   "outputs": [],
   "source": [
    "details = {'Derek Gordon Pigg': {'Nick': 'Derek',\n",
    "  'Occupation': 'Manager',\n",
    "  'Organisation': 'Transocean Eastern Pte Ltd',\n",
    "  'Company nick': 'Transocean',\n",
    "  'Number of charges': '8',\n",
    "  'Role': 'Receiver',\n",
    "  'Form of gratification': 'Money',\n",
    "  'Charge': 'NA',\n",
    "  'Admission to guilt': 'Yes'},\n",
    " 'Yong Hock Guan Dennis': {'Nick': 'Yong',\n",
    "  'Occupation': 'Senior sales manager',\n",
    "  'Organisation': 'Mid-Continent Tubular Pte Ltd',\n",
    "  'Company nick': 'MCT',\n",
    "  'Number of charges': '15',\n",
    "  'Role': 'Giver',\n",
    "  'Form of gratification': 'Money',\n",
    "  'Charge': 's 6(a) and 6(b) of the Prevention of Corruption Act',\n",
    "  'Admission to guilt': 'Yes'},\n",
    " 'Ong Eng Kee': {'Nick': 'Ong',\n",
    "  'Occupation': 'Managing Director',\n",
    "  'Organisation': 'MCT',\n",
    "  'Company nick': 'MCT',\n",
    "  'Number of charges': '15',\n",
    "  'Role': 'Giver',\n",
    "  'Form of gratification': 'Money',\n",
    "  'Charge': 'Section 6(b) of the Prevention of Corruption Act',\n",
    "  'Admission to guilt': 'Yes'}}"
   ]
  },
  {
   "cell_type": "code",
   "execution_count": 14,
   "id": "cbc0c15e-1233-4052-9557-2512b6a9878a",
   "metadata": {},
   "outputs": [
    {
     "name": "stdout",
     "output_type": "stream",
     "text": [
      "Based on the provided context, the age, gender, and nationality of the subject are not available. Therefore, the answer is: <NA>\n",
      "Based on the provided context, the age, gender, and nationality of the subject are not available.\n",
      "Based on the provided context, the age, gender, and nationality of the subject are not available. Therefore, the answer is: <NA>\n"
     ]
    }
   ],
   "source": [
    "for s in subjects:\n",
    "    passport = llm.generate_passport(generateQueryEmbeddings, collections[0], info[0][\"contexts\"], s, stream=True)\n",
    "    print(llm.get_passport(passport, s))\n",
    "#     details[s]['Passport'] = llm.get_passport(testimony, s)\n",
    "# details"
   ]
  },
  {
   "cell_type": "code",
   "execution_count": 22,
   "id": "9d64f365-e1ae-4248-8fc0-365961cff3d9",
   "metadata": {},
   "outputs": [
    {
     "data": {
      "text/plain": [
       "{'Date of charge': None,\n",
       " 'Period of crime': None,\n",
       " 'Summary of crime': 'In this case, Yong Hock Guan Dennis was charged with corruption and criminal breach of trust. He pleaded guilty in 2015 and faced multiple charges, including conspiring with Ong Eng Kee to pay a bribe of S$78,806 to Derek Gordon Pigg, another charge for conspiring with Ong to pay a bribe of S$99,008 to Derek (which was not paid), and an amalgamated charge of criminal breach of trust for keeping part of the \"marketing expenses\" for himself on five occasions in 2008. Yong also admitted and consented to have 31 other charges taken into consideration for sentencing, including nine counts of abetting the giving of corrupt gratification and two counts of criminal breach of trust. Derek Gordon Pigg was convicted on eight charges under the Prevention of Corruption Act for accepting gratification from Yong. He was sentenced to 15 months\\' imprisonment and ordered to pay a penalty of S$270,000.'}"
      ]
     },
     "execution_count": 22,
     "metadata": {},
     "output_type": "execute_result"
    }
   ],
   "source": [
    "summary = llm.generate_summary(generateQueryEmbeddings, collections[0], info[0][\"contexts\"], details, stream=True)\n",
    "other_details['Summary of crime'] = llm.get_summary(summary)\n",
    "other_details"
   ]
  },
  {
   "cell_type": "code",
   "execution_count": 17,
   "id": "16908d4a-d386-4ba3-b4c8-28112be4b80a",
   "metadata": {},
   "outputs": [
    {
     "data": {
      "text/plain": [
       "{'Derek Gordon Pigg': {'Nick': 'Derek',\n",
       "  'Occupation': 'Manager',\n",
       "  'Organisation': 'Transocean Eastern Pte Ltd',\n",
       "  'Company nick': 'Transocean',\n",
       "  'Number of charges': '8',\n",
       "  'Role': 'Receiver',\n",
       "  'Form of gratification': 'Money',\n",
       "  'Charge': 'NA',\n",
       "  'Admission to guilt': 'Yes',\n",
       "  'Charge date': 'May 2017'},\n",
       " 'Yong Hock Guan Dennis': {'Nick': 'Yong',\n",
       "  'Occupation': 'Senior sales manager',\n",
       "  'Organisation': 'Mid-Continent Tubular Pte Ltd',\n",
       "  'Company nick': 'MCT',\n",
       "  'Number of charges': '15',\n",
       "  'Role': 'Giver',\n",
       "  'Form of gratification': 'Money',\n",
       "  'Charge': 's 6(a) and 6(b) of the Prevention of Corruption Act',\n",
       "  'Admission to guilt': 'Yes',\n",
       "  'Charge date': '2015'},\n",
       " 'Ong Eng Kee': {'Nick': 'Ong',\n",
       "  'Occupation': 'Managing Director',\n",
       "  'Organisation': 'MCT',\n",
       "  'Company nick': 'MCT',\n",
       "  'Number of charges': '15',\n",
       "  'Role': 'Giver',\n",
       "  'Form of gratification': 'Money',\n",
       "  'Charge': 'Section 6(b) of the Prevention of Corruption Act',\n",
       "  'Admission to guilt': 'Yes',\n",
       "  'Charge date': '2015'}}"
      ]
     },
     "execution_count": 17,
     "metadata": {},
     "output_type": "execute_result"
    }
   ],
   "source": [
    "for s in subjects:\n",
    "    chargedate = llm.generate_chargeDate(generateQueryEmbeddings, collections[0], info[0][\"contexts\"], s, details, stream=False)\n",
    "    details[s]['Charge date'] = llm.get_chargeDate(chargedate)\n",
    "details"
   ]
  },
  {
   "cell_type": "code",
   "execution_count": null,
   "id": "cebf5bb7-87ed-46d1-98cc-db8c566e4925",
   "metadata": {},
   "outputs": [],
   "source": []
  },
  {
   "cell_type": "code",
   "execution_count": null,
   "id": "27f69bce-e84a-43bd-a549-dd34ef11b536",
   "metadata": {},
   "outputs": [],
   "source": []
  },
  {
   "cell_type": "code",
   "execution_count": null,
   "id": "24ea6749-8912-43b3-b4c4-7b47b0c08d78",
   "metadata": {},
   "outputs": [],
   "source": []
  },
  {
   "cell_type": "markdown",
   "id": "00fbace5-7190-410f-9503-2339275c2034",
   "metadata": {},
   "source": [
    "#### Display on Gradio"
   ]
  },
  {
   "cell_type": "code",
   "execution_count": 12,
   "id": "b90b392c-b54b-4200-91ad-dafc61a846f1",
   "metadata": {},
   "outputs": [],
   "source": [
    "import gradio as gr\n",
    "from gradio.themes.base import Base\n",
    "\n",
    "import aspose.pdf as ap\n",
    "import fitz\n",
    "import string\n",
    "import pickle\n",
    "import os"
   ]
  },
  {
   "cell_type": "code",
   "execution_count": 21,
   "id": "b95f19f7-e3e2-4528-b60d-254c17275e4b",
   "metadata": {},
   "outputs": [],
   "source": [
    "subjects = ['Derek Gordon Pigg', 'Yong Hock Guan Dennis', 'Ong Eng Kee']\n",
    "\n",
    "details = {'Derek Gordon Pigg': {'Nick': 'Derek',\n",
    "  'Occupation': 'Manager',\n",
    "  'Organisation': 'Transocean Eastern Pte Ltd',\n",
    "  'Company nick': 'Transocean',\n",
    "  'Number of charges': '8',\n",
    "  'Role': 'Receiver',\n",
    "  'Form of gratification': 'Money',\n",
    "  'Charge': 'NA',\n",
    "  'Admission to guilt': 'Yes',\n",
    "  'Charge date': 'May 2017'},\n",
    " 'Yong Hock Guan Dennis': {'Nick': 'Yong',\n",
    "  'Occupation': 'Senior sales manager',\n",
    "  'Organisation': 'Mid-Continent Tubular Pte Ltd',\n",
    "  'Company nick': 'MCT',\n",
    "  'Number of charges': '15',\n",
    "  'Role': 'Giver',\n",
    "  'Form of gratification': 'Money',\n",
    "  'Charge': 's 6(a) and 6(b) of the Prevention of Corruption Act',\n",
    "  'Admission to guilt': 'Yes',\n",
    "  'Charge date': '2015'},\n",
    " 'Ong Eng Kee': {'Nick': 'Ong',\n",
    "  'Occupation': 'Managing Director',\n",
    "  'Organisation': 'MCT',\n",
    "  'Company nick': 'MCT',\n",
    "  'Number of charges': '15',\n",
    "  'Role': 'Giver',\n",
    "  'Form of gratification': 'Money',\n",
    "  'Charge': 'Section 6(b) of the Prevention of Corruption Act',\n",
    "  'Admission to guilt': 'Yes',\n",
    "  'Charge date': '2015'}}\n",
    "\n",
    "other_details = {'Date of charge': None,\n",
    " 'Period of crime': None,\n",
    " 'Summary of crime': 'In this case, Yong Hock Guan Dennis was charged with corruption and criminal breach of trust. He pleaded guilty in 2015 and faced multiple charges, including conspiring with Ong Eng Kee to pay a bribe of S$78,806 to Derek Gordon Pigg, another charge for conspiring with Ong to pay a bribe of S$99,008 to Derek (which was not paid), and an amalgamated charge of criminal breach of trust for keeping part of the \"marketing expenses\" for himself on five occasions in 2008. Yong also admitted and consented to have 31 other charges taken into consideration for sentencing, including nine counts of abetting the giving of corrupt gratification and two counts of criminal breach of trust. Derek Gordon Pigg was convicted on eight charges under the Prevention of Corruption Act for accepting gratification from Yong. He was sentenced to 15 months\\' imprisonment and ordered to pay a penalty of S$270,000.'}"
   ]
  },
  {
   "cell_type": "code",
   "execution_count": 13,
   "id": "c950d843-e27a-4029-9e18-1e27c5da56c9",
   "metadata": {},
   "outputs": [
    {
     "name": "stdout",
     "output_type": "stream",
     "text": [
      "Running on local URL:  http://127.0.0.1:7860\n",
      "Running on public URL: https://5faf08ca0252678ec4.gradio.live\n",
      "\n",
      "This share link expires in 72 hours. For free permanent hosting and GPU upgrades, run `gradio deploy` from Terminal to deploy to Spaces (https://huggingface.co/spaces)\n"
     ]
    },
    {
     "data": {
      "text/html": [
       "<div><iframe src=\"https://5faf08ca0252678ec4.gradio.live\" width=\"100%\" height=\"500\" allow=\"autoplay; camera; microphone; clipboard-read; clipboard-write;\" frameborder=\"0\" allowfullscreen></iframe></div>"
      ],
      "text/plain": [
       "<IPython.core.display.HTML object>"
      ]
     },
     "metadata": {},
     "output_type": "display_data"
    },
    {
     "name": "stderr",
     "output_type": "stream",
     "text": [
      "/home/xinmeng/miniconda3/envs/rag/lib/python3.10/site-packages/transformers/generation/utils.py:1421: UserWarning: You have modified the pretrained model configuration to control generation. This is a deprecated strategy to control generation and will be removed soon, in a future version. Please use and modify the model generation configuration (see https://huggingface.co/docs/transformers/generation_strategies#default-text-generation-configuration )\n",
      "  warnings.warn(\n"
     ]
    },
    {
     "name": "stdout",
     "output_type": "stream",
     "text": [
      "{'Heng Tze Yong': {'Nick': 'Heng', 'Occupation': 'Appellant', 'Organisation': 'NA', 'Company nick': 'NA', 'Role': 'Receiver', 'Number of charges': '2', 'Form of gratification': 'Money', 'Charge': 'NA', 'Admission to guilt': 'Yes', 'Testimony': 'The amount of bribe that was paid or received is S$3,000 for the first bribe, S$7,000 for the second bribe, and NA for the TIC charge.', 'Charge date': '8 March 2017'}, 'Ong Seng Wee': {'Nick': 'Ben Ong', 'Occupation': 'Facility Manager', 'Organisation': 'Micron Semiconductor Asia Pte Ltd', 'Company nick': 'Micron', 'Role': 'Receiver', 'Number of charges': '2', 'Form of gratification': 'Money', 'Charge': 'NA', 'Admission to guilt': 'Yes', 'Testimony': 'S$3,000 and S$7,000.', 'Charge date': 'NA'}}\n"
     ]
    }
   ],
   "source": [
    "# subjects = ['Derek Gordon Pigg, the appellant', 'Yong Hock Guan Dennis', 'Ong Eng Kee']\n",
    "subjects = ['Heng Tze Yong', 'Ong Seng Wee']\n",
    "database = collections[1]\n",
    "contexts = info[1][\"contexts\"]\n",
    "\n",
    "\n",
    "def step_1():\n",
    "    details = dict()\n",
    "    other_details = {'Date of charge': None,\n",
    "                     'Period of crime': None,\n",
    "                     'Summary of crime': None}\n",
    "\n",
    "    ## cannot combine the loop for chargedate because it requires details\n",
    "    for s in subjects:\n",
    "        deets = llm.generate_details(generateQueryEmbeddings, database, contexts, s, \n",
    "                                     example_case, example_david, example_deets_david, \n",
    "                                     example_case, example_emma, example_deets_emma, stream=False)\n",
    "        details[s] = llm.get_details(deets, s)\n",
    "    for s in subjects:\n",
    "        crime = llm.generate_details(generateQueryEmbeddings, database, contexts, s, \n",
    "                                     example_case, example_david, example_crime_david, \n",
    "                                     example_case, example_emma, example_crime_emma, stream=False)\n",
    "        details[s].update(llm.get_crime(crime, s))\n",
    "    for s in subjects:\n",
    "        testimony = llm.generate_testimony(generateQueryEmbeddings, database, contexts, s, \n",
    "                                           example_case, example_david, example_testimony_david, \n",
    "                                           example_case, example_emma, example_testimony_emma, stream=False)\n",
    "        details[s]['Testimony'] = llm.get_testimony(testimony, s)\n",
    "    for s in subjects:\n",
    "        chargedate = llm.generate_chargeDate(generateQueryEmbeddings, database, contexts, s, details, stream=False)\n",
    "        details[s]['Charge date'] = llm.get_chargeDate(chargedate)\n",
    "\n",
    "    # print(details)\n",
    "    summary = llm.generate_summary(generateQueryEmbeddings, database, contexts, details, stream=False)\n",
    "    other_details['Summary of crime'] = llm.get_summary(summary)\n",
    "\n",
    "    return details, other_details\n",
    "\n",
    "\n",
    "def step_2(details=details, other_details=other_details):\n",
    "\n",
    "    html = f\"\"\"\n",
    "            On &lt;date of charge&gt;, {len(details)} individuals have been charged in Court for \\\n",
    "            allegedly committing corruption: <br><br>\"\"\"\n",
    "    \n",
    "    for i in range(len(details)):\n",
    "        subject = list(details.keys())[i]\n",
    "        if i < len(details) - 1:\n",
    "            html += f\"\"\"\n",
    "                    {string.ascii_lowercase[i]}) {subject} (\"{details[subject]['Nick']}\") \\\n",
    "                    (&lt;chinese name&gt;, &lt;age&gt; &lt;gender&gt; &lt;nationality&gt;), \\\n",
    "                    {details[subject]['Occupation']} at {details[subject]['Organisation']} \\\n",
    "                    (\"{details[subject]['Company nick']}\"), at the material time; and <br><br>\"\"\"\n",
    "        else:\n",
    "            html += f\"\"\"\n",
    "                    {string.ascii_lowercase[i]}) {subject} (\"{details[subject]['Nick']}\") \\\n",
    "                    (&lt;chinese name&gt;, &lt;age&gt; &lt;gender&gt; &lt;nationality&gt;), \\\n",
    "                    {details[subject]['Occupation']} at {details[subject]['Organisation']} \\\n",
    "                    (\"{details[subject]['Company nick']}\"), at the material time.\"\"\"\n",
    "\n",
    "    html += f\"<br><br>\"\n",
    "    html += f\"2. On/Between &lt;period of crime&gt;, {other_details['Summary of crime']}\"\n",
    "\n",
    "    html += f\"<br><br>\"\n",
    "    html += f\"3. For their alleged actions, \"\n",
    "    for subject in details.keys():\n",
    "        html += f\"{subject} faces {details[subject]['Number of charges']} charge(s) under the {details[subject]['Charge']}. \"\n",
    "\n",
    "    html += f\"<br><br>\"\n",
    "    html += f\"\"\"\n",
    "            4. Singapore adopts a strict zero-tolerance approach towards corruption. Any person who is \\\n",
    "            convicted of a corruption offence under Section 6 of the Prevention of Corruption Act \\\n",
    "            can be fined up to S$100,000 or sentenced to imprisonment of up to five years or both. \n",
    "            <br> <br>\n",
    "            5. CPIB looks into all corruption-related complaints and reports, including anonymous \\\n",
    "            ones, and can be reached via the following channels: <br>\n",
    "            a) Lodge an e-Complaint; <br>\n",
    "            b) Email us at report@cpib.gov.sg; <br>\n",
    "            c) Call the Duty Officer at 1800-376-0000; or <br>\n",
    "            d) Write to us at the CPIB Headquarters @ 2 Lengkok Bahru, S159047.\n",
    "            <br> <br>\n",
    "            6. Where possible, the report should include the following information: <br>\n",
    "            a) Where, when and how the alleged corrupt act happened? <br>\n",
    "            b) Who was involved and what were their roles? <br>\n",
    "            c) What was the bribe given and the favour shown?\n",
    "            <br> <br>\n",
    "            Corrupt Practices Investigation Bureau\"\"\"\n",
    "\n",
    "    return html\n",
    "\n",
    "def generate():\n",
    "    details, other_details = step_1()\n",
    "    return step_2(details=details, other_details=other_details)\n",
    "\n",
    "\n",
    "with gr.Blocks() as demo:\n",
    "\n",
    "    gr.Markdown(\"<center><h1> Press Release Generation </h1></center\")\n",
    "\n",
    "    import fitz\n",
    "    \n",
    "    def upload_file(file):\n",
    "        # doc = fitz.open(file)\n",
    "        # document = ap.Document(file)\n",
    "        # document.save(f\"{file.name}.pdf\")\n",
    "        with open(\"test.pickle\", \"wb\") as f:\n",
    "            pickle.dump(file, f)\n",
    "        \n",
    "        return file.name\n",
    "  \n",
    "    \n",
    "    file_output = gr.File()\n",
    "    upload_button = gr.UploadButton(\"Click to Upload a File\", file_types=None)\n",
    "    upload_button.upload(upload_file, upload_button, file_output)\n",
    "\n",
    "    btn = gr.Button(value=\"Generate\", variant=\"primary\", elem_id=\"warning\", elem_classes=\"feedback\")\n",
    "    txt_1 = gr.HTML(label=\"test\")#, lines=1)\n",
    "    \n",
    "\n",
    "    btn.click(generate, inputs=[], outputs=[txt_1])\n",
    "\n",
    "    \n",
    "\n",
    "\n",
    "    demo.launch(share=True)"
   ]
  },
  {
   "cell_type": "code",
   "execution_count": null,
   "id": "4f7b1107-e5ba-4ed9-8313-61d2de579efa",
   "metadata": {},
   "outputs": [],
   "source": []
  },
  {
   "cell_type": "code",
   "execution_count": null,
   "id": "6f643a71-4477-4206-860d-eccdb85971a6",
   "metadata": {},
   "outputs": [],
   "source": []
  },
  {
   "cell_type": "code",
   "execution_count": null,
   "id": "d4116c90-afbf-4cc5-be46-f5d69c5f0f3d",
   "metadata": {},
   "outputs": [],
   "source": []
  }
 ],
 "metadata": {
  "kernelspec": {
   "display_name": "Python 3 (ipykernel)",
   "language": "python",
   "name": "python3"
  },
  "language_info": {
   "codemirror_mode": {
    "name": "ipython",
    "version": 3
   },
   "file_extension": ".py",
   "mimetype": "text/x-python",
   "name": "python",
   "nbconvert_exporter": "python",
   "pygments_lexer": "ipython3",
   "version": "3.10.13"
  }
 },
 "nbformat": 4,
 "nbformat_minor": 5
}
